{
 "cells": [
  {
   "cell_type": "markdown",
   "metadata": {},
   "source": [
    "# Case study: K-means\n",
    "\n",
    "K-means is a simple algorithm to cluster data – that is to identify groups of similar objects based only on their properties. The algorithm is best-illustrated by the following graph:\n",
    "\n",
    "<img src=\"images/kmeans_illustration.png\" alt=\"drawing\" width=800 >\n",
    "\n",
    "\n",
    "\n",
    "## Loading data\n",
    "\n",
    "We first need to load sample data"
   ]
  },
  {
   "cell_type": "code",
   "execution_count": 15,
   "metadata": {},
   "outputs": [
    {
     "data": {
      "text/plain": [
       "(30, 2)"
      ]
     },
     "execution_count": 15,
     "metadata": {},
     "output_type": "execute_result"
    }
   ],
   "source": [
    "import numpy as np\n",
    "import matplotlib.pylab as plt\n",
    "\n",
    "data = np.loadtxt('data/kmeans_data.csv')\n",
    "data.shape"
   ]
  },
  {
   "cell_type": "markdown",
   "metadata": {},
   "source": [
    "To visualise the data we can use the scatter function from matplotlib package:"
   ]
  },
  {
   "cell_type": "code",
   "execution_count": 16,
   "metadata": {},
   "outputs": [
    {
     "data": {
      "text/plain": [
       "<matplotlib.collections.PathCollection at 0x7f6ab3ce3c50>"
      ]
     },
     "execution_count": 16,
     "metadata": {},
     "output_type": "execute_result"
    },
    {
     "data": {
      "image/png": "[encoded data removed]",
      "text/plain": [
       "<Figure size 432x288 with 1 Axes>"
      ]
     },
     "metadata": {
      "needs_background": "light"
     },
     "output_type": "display_data"
    }
   ],
   "source": [
    "plt.scatter(data[:, 0], data[:, 1], s=40)"
   ]
  },
  {
   "cell_type": "markdown",
   "metadata": {},
   "source": [
    "## Initialisation\n",
    "\n",
    "In the first step of the algorithm we need to initialise the centers of the clusters. We will initialise them randomly but consistently with the mean and standard deviation of the data:"
   ]
  },
  {
   "cell_type": "code",
   "execution_count": 17,
   "metadata": {},
   "outputs": [],
   "source": [
    "K = 3\n",
    "centroids = np.random.randn(K, 2)"
   ]
  },
  {
   "cell_type": "markdown",
   "metadata": {},
   "source": [
    "To center the cluster centroids on the data it’s better to normalise to the mean and standard deviation of the data:"
   ]
  },
  {
   "cell_type": "code",
   "execution_count": 18,
   "metadata": {},
   "outputs": [],
   "source": [
    "centroids = centroids * np.std(data, 0)\n",
    "centroids = centroids + np.mean(data, 0)"
   ]
  },
  {
   "cell_type": "markdown",
   "metadata": {},
   "source": [
    "Let’s now plot the data and the random cluster centers on the same figure:"
   ]
  },
  {
   "cell_type": "code",
   "execution_count": 19,
   "metadata": {},
   "outputs": [
    {
     "data": {
      "text/plain": [
       "<matplotlib.collections.PathCollection at 0x7f6ab3bfecc0>"
      ]
     },
     "execution_count": 19,
     "metadata": {},
     "output_type": "execute_result"
    },
    {
     "data": {
      "image/png": "[encoded data removed]",
      "text/plain": [
       "<Figure size 432x288 with 1 Axes>"
      ]
     },
     "metadata": {
      "needs_background": "light"
     },
     "output_type": "display_data"
    }
   ],
   "source": [
    "plt.scatter(data[:, 0], data[:, 1], s=40)\n",
    "plt.scatter(centroids[:, 0], centroids[:, 1], c=np.arange(3), s=100)"
   ]
  },
  {
   "cell_type": "markdown",
   "metadata": {},
   "source": [
    "We now need to assign each point to the closest cluster center. <br> First, we will calculate the Euclidean distance of each point to each of the centers. For this we can use the __broadcasting__:"
   ]
  },
  {
   "cell_type": "code",
   "execution_count": 20,
   "metadata": {},
   "outputs": [
    {
     "data": {
      "text/plain": [
       "array([[2.76699745, 3.00605901],\n",
       "       [2.08809478, 2.90381099],\n",
       "       [2.82268654, 3.14969639],\n",
       "       [2.96035562, 1.9278771 ],\n",
       "       [2.65912237, 3.00699101],\n",
       "       [2.0329546 , 3.08106089],\n",
       "       [2.85400832, 1.99980153],\n",
       "       [1.85938708, 2.93227423],\n",
       "       [2.97992252, 1.86682102],\n",
       "       [2.99576316, 1.98559546],\n",
       "       [2.01073572, 2.90854215],\n",
       "       [2.84360137, 1.95581993],\n",
       "       [3.01468494, 2.07181725],\n",
       "       [2.95584876, 2.00254953],\n",
       "       [2.95385335, 2.01422889],\n",
       "       [2.72347887, 2.90977263],\n",
       "       [1.82256374, 2.9252103 ],\n",
       "       [2.91446894, 3.05433678],\n",
       "       [2.74601409, 3.1048083 ],\n",
       "       [1.89816233, 2.85769504],\n",
       "       [2.70640919, 2.95768642],\n",
       "       [2.85895647, 3.03312417],\n",
       "       [2.93936445, 1.98082121],\n",
       "       [2.71781119, 3.08253543],\n",
       "       [2.91929334, 3.08057845],\n",
       "       [1.98107071, 3.05056244],\n",
       "       [2.89163948, 2.02318367],\n",
       "       [1.92957669, 2.98597707],\n",
       "       [2.14050487, 2.92158131],\n",
       "       [1.97546003, 3.03506174]])"
      ]
     },
     "execution_count": 20,
     "metadata": {},
     "output_type": "execute_result"
    }
   ],
   "source": [
    "data"
   ]
  },
  {
   "cell_type": "code",
   "execution_count": 24,
   "metadata": {},
   "outputs": [
    {
     "data": {
      "text/plain": [
       "(3, 2)"
      ]
     },
     "execution_count": 24,
     "metadata": {},
     "output_type": "execute_result"
    }
   ],
   "source": [
    "centroids.shape"
   ]
  },
  {
   "cell_type": "code",
   "execution_count": 23,
   "metadata": {},
   "outputs": [
    {
     "data": {
      "text/plain": [
       "(30, 1, 2)"
      ]
     },
     "execution_count": 23,
     "metadata": {},
     "output_type": "execute_result"
    }
   ],
   "source": [
    "data[:, np.newaxis, :].shape"
   ]
  },
  {
   "cell_type": "code",
   "execution_count": 6,
   "metadata": {},
   "outputs": [],
   "source": [
    "deltas = data[:, np.newaxis, :] - centroids\n",
    "distances = np.sqrt(np.sum((deltas) ** 2, 2))"
   ]
  },
  {
   "cell_type": "markdown",
   "metadata": {},
   "source": [
    "For each data point we find the center with minimum distance. We can use the argmin method with the axis argument:"
   ]
  },
  {
   "cell_type": "code",
   "execution_count": 7,
   "metadata": {},
   "outputs": [],
   "source": [
    "closest = distances.argmin(1)"
   ]
  },
  {
   "cell_type": "markdown",
   "metadata": {},
   "source": [
    "Now we plot the centroids and data points with the color-code reflecting cluster membership:"
   ]
  },
  {
   "cell_type": "code",
   "execution_count": 8,
   "metadata": {},
   "outputs": [
    {
     "data": {
      "text/plain": [
       "<matplotlib.collections.PathCollection at 0x7f6ab3e02080>"
      ]
     },
     "execution_count": 8,
     "metadata": {},
     "output_type": "execute_result"
    },
    {
     "data": {
      "image/png": "[encoded data removed]",
      "text/plain": [
       "<Figure size 432x288 with 1 Axes>"
      ]
     },
     "metadata": {
      "needs_background": "light"
     },
     "output_type": "display_data"
    }
   ],
   "source": [
    "plt.scatter(data[:, 0], data[:, 1], s=40, c=closest)\n",
    "plt.scatter(centroids[:, 0], centroids[:, 1], c=np.arange(3), s=100)"
   ]
  },
  {
   "cell_type": "markdown",
   "metadata": {},
   "source": [
    "## $\\color{green}{\\text{Excercise}}$  Calculate new cluster centers\n",
    "Given the array of cluster assignments closest calculate the center coordinates of the first cluster (index 0). <br> __Note__: To calculate new centers of the clusters, we average all points belonging to that cluster. We can use a boolean mask"
   ]
  },
  {
   "cell_type": "code",
   "execution_count": 9,
   "metadata": {},
   "outputs": [
    {
     "data": {
      "text/plain": [
       "array([2.86121402, 2.51070521])"
      ]
     },
     "execution_count": 9,
     "metadata": {},
     "output_type": "execute_result"
    }
   ],
   "source": [
    "data[closest==0, :].mean(0)"
   ]
  },
  {
   "cell_type": "markdown",
   "metadata": {},
   "source": [
    "To repeat it for all clusters we can use a for loop or list comprehension. Since the number of clusters is usually much smaller than the number of data points, this for loop won’t affect the performance of our algorithm:"
   ]
  },
  {
   "cell_type": "code",
   "execution_count": 10,
   "metadata": {},
   "outputs": [
    {
     "name": "stderr",
     "output_type": "stream",
     "text": [
      "/home/mtelencz/anaconda3/envs/teaching/lib/python3.7/site-packages/ipykernel_launcher.py:1: RuntimeWarning: Mean of empty slice.\n",
      "  \"\"\"Entry point for launching an IPython kernel.\n",
      "/home/mtelencz/anaconda3/envs/teaching/lib/python3.7/site-packages/numpy/core/_methods.py:78: RuntimeWarning: invalid value encountered in true_divide\n",
      "  ret, rcount, out=ret, casting='unsafe', subok=False)\n"
     ]
    }
   ],
   "source": [
    "centroids = np.array([data[closest == i, :].mean(0) for i in range(3)])"
   ]
  },
  {
   "cell_type": "markdown",
   "metadata": {},
   "source": [
    "Lets check the positions of new centers and assignment of points to clusters."
   ]
  },
  {
   "cell_type": "code",
   "execution_count": 11,
   "metadata": {},
   "outputs": [
    {
     "data": {
      "text/plain": [
       "<matplotlib.collections.PathCollection at 0x7f6ab3de89e8>"
      ]
     },
     "execution_count": 11,
     "metadata": {},
     "output_type": "execute_result"
    },
    {
     "data": {
      "image/png": "[encoded data removed]",
      "text/plain": [
       "<Figure size 432x288 with 1 Axes>"
      ]
     },
     "metadata": {
      "needs_background": "light"
     },
     "output_type": "display_data"
    }
   ],
   "source": [
    "plt.scatter(data[:, 0], data[:, 1], s=40, c=closest)\n",
    "plt.scatter(centroids[:, 0], centroids[:, 1], c=np.arange(3), s=100)"
   ]
  },
  {
   "cell_type": "markdown",
   "metadata": {},
   "source": [
    "## Iterations"
   ]
  },
  {
   "cell_type": "markdown",
   "metadata": {},
   "source": [
    "Now we can repeat the steps of assigning point to clusters and updating the cluster centers iteratively and watch the progress of the algorithm:"
   ]
  },
  {
   "cell_type": "code",
   "execution_count": 12,
   "metadata": {},
   "outputs": [
    {
     "name": "stderr",
     "output_type": "stream",
     "text": [
      "/home/mtelencz/anaconda3/envs/teaching/lib/python3.7/site-packages/ipykernel_launcher.py:8: RuntimeWarning: Mean of empty slice.\n",
      "  \n"
     ]
    }
   ],
   "source": [
    "for iteration in range(5):\n",
    "   # assign points to clusters\n",
    "   deltas = data[:, np.newaxis, :] - centroids\n",
    "   distances = np.sqrt(np.sum((deltas) ** 2, 2))\n",
    "   closest = distances.argmin(1)\n",
    "\n",
    "   # calculate new centroids\n",
    "   centroids = np.array([data[closest == i, :].mean(0) for i in range(3)])"
   ]
  },
  {
   "cell_type": "markdown",
   "metadata": {},
   "source": [
    "## Single cluster?\n",
    "Note that sometimes the algorithm can produce degenerate results – all of the points will be assigned to a single cluster (or final number of clusters will be less than K). This is one of drawbacks of K-means with random initialisations. A possible solution is to repeat the algorithm with other initialisations and find the best cluster assignment, but better solutions exist."
   ]
  },
  {
   "cell_type": "markdown",
   "metadata": {},
   "source": [
    "## Putting it all together\n",
    "\n",
    "Our final script will look as the following:"
   ]
  },
  {
   "cell_type": "code",
   "execution_count": 13,
   "metadata": {},
   "outputs": [
    {
     "name": "stderr",
     "output_type": "stream",
     "text": [
      "/home/mtelencz/anaconda3/envs/teaching/lib/python3.7/site-packages/ipykernel_launcher.py:19: RuntimeWarning: Mean of empty slice.\n"
     ]
    },
    {
     "data": {
      "text/plain": [
       "<matplotlib.collections.PathCollection at 0x7f6ab3d5f470>"
      ]
     },
     "execution_count": 13,
     "metadata": {},
     "output_type": "execute_result"
    },
    {
     "data": {
      "image/png": "[encoded data removed]",
      "text/plain": [
       "<Figure size 432x288 with 1 Axes>"
      ]
     },
     "metadata": {
      "needs_background": "light"
     },
     "output_type": "display_data"
    }
   ],
   "source": [
    "import numpy as np\n",
    "import matplotlib.pyplot as plt\n",
    "\n",
    "data = np.loadtxt('data/kmeans_data.csv')\n",
    "\n",
    "# randomly initalize the centroids\n",
    "K = 3\n",
    "centroids = np.random.randn(K, 2)\n",
    "centroids = centroids * np.std(data, 0)\n",
    "centroids = centroids + np.mean(data, 0)\n",
    "\n",
    "for iteration in range(5):\n",
    "   # assign points to clusters\n",
    "   deltas = data[:, np.newaxis, :] - centroids\n",
    "   distances = np.sqrt(np.sum((deltas) ** 2, 2))\n",
    "   closest = distances.argmin(1)\n",
    "\n",
    "   # calculate new centroids\n",
    "   centroids = np.array([data[closest == i, :].mean(0) for i in range(K)])\n",
    "\n",
    "# plot \n",
    "plt.scatter(data[:, 0], data[:, 1], s=40, c=closest)\n",
    "plt.scatter(centroids[:, 0], centroids[:, 1], c=np.arange(K), s=100)"
   ]
  },
  {
   "cell_type": "markdown",
   "metadata": {},
   "source": [
    "## $\\color{green}{\\text{Excercise}}$  Stopping criterion\n",
    "After each iteration test whether any point changes their cluster membership. Stop the algorithm if convergence was reached i.e. clusters do not change after the re-assignment step."
   ]
  },
  {
   "cell_type": "markdown",
   "metadata": {},
   "source": [
    "## $\\color{green}{\\text{Excercise}}$ Choice of K\n",
    "\n",
    "Check whether the algorithm works for any K. Try using K > 3. What happens then?"
   ]
  },
  {
   "cell_type": "code",
   "execution_count": 14,
   "metadata": {},
   "outputs": [
    {
     "name": "stderr",
     "output_type": "stream",
     "text": [
      "/home/mtelencz/anaconda3/envs/teaching/lib/python3.7/site-packages/ipykernel_launcher.py:19: RuntimeWarning: Mean of empty slice.\n"
     ]
    },
    {
     "data": {
      "text/plain": [
       "<matplotlib.collections.PathCollection at 0x7f6ab3cc4a90>"
      ]
     },
     "execution_count": 14,
     "metadata": {},
     "output_type": "execute_result"
    },
    {
     "data": {
      "image/png": "[encoded data removed]",
      "text/plain": [
       "<Figure size 432x288 with 1 Axes>"
      ]
     },
     "metadata": {
      "needs_background": "light"
     },
     "output_type": "display_data"
    }
   ],
   "source": [
    "import numpy as np\n",
    "import matplotlib.pyplot as plt\n",
    "\n",
    "data = np.loadtxt('data/kmeans_data.csv')\n",
    "\n",
    "# randomly initalize the centroids\n",
    "K = 4\n",
    "centroids = np.random.randn(K, 2)\n",
    "centroids = centroids * np.std(data, 0)\n",
    "centroids = centroids + np.mean(data, 0)\n",
    "\n",
    "for iteration in range(5):\n",
    "   # assign points to clusters\n",
    "   deltas = data[:, np.newaxis, :] - centroids\n",
    "   distances = np.sqrt(np.sum((deltas) ** 2, 2))\n",
    "   closest = distances.argmin(1)\n",
    "\n",
    "   # calculate new centroids\n",
    "   centroids_new = np.array([data[closest == i, :].mean(0) for i in range(K)])\n",
    "   centroids_new[np.isnan(centroids_new)] = centroids[np.isnan(centroids_new)]\n",
    "   centroids = centroids_new\n",
    "\n",
    "# plot \n",
    "plt.scatter(data[:, 0], data[:, 1], s=40, c=closest)\n",
    "plt.scatter(centroids[:, 0], centroids[:, 1], c=np.arange(K), s=100)"
   ]
  },
  {
   "cell_type": "markdown",
   "metadata": {},
   "source": [
    "## $\\color{green}{\\text{Excercise}}$ Memory or speed\n",
    "\n",
    "Replace the assignment and calculation of new clusters with a for loop. Which implementation would be preferable for small (few observations and dimensions) and which for large datasets (large number of observations and dimensions)."
   ]
  },
  {
   "cell_type": "markdown",
   "metadata": {},
   "source": [
    "[Previous: Broadcasting](broadcasting.ipynb)<br>[Next: Test yourself](test_yourself.ipynb)"
   ]
  }
 ],
 "metadata": {
  "kernelspec": {
   "display_name": "Python 3",
   "language": "python",
   "name": "python3"
  },
  "language_info": {
   "codemirror_mode": {
    "name": "ipython",
    "version": 3
   },
   "file_extension": ".py",
   "mimetype": "text/x-python",
   "name": "python",
   "nbconvert_exporter": "python",
   "pygments_lexer": "ipython3",
   "version": "3.7.2"
  }
 },
 "nbformat": 4,
 "nbformat_minor": 2
}
