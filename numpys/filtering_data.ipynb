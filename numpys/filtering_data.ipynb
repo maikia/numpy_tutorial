{
 "cells": [
  {
   "cell_type": "markdown",
   "metadata": {},
   "source": [
    "## Filtering data\n",
    "It's also possible to select elements (filter) based on a condition. For example, to select all measurments above 10 in the first patient we can use:"
   ]
  },
  {
   "cell_type": "code",
   "execution_count": 1,
   "metadata": {},
   "outputs": [],
   "source": [
    "import numpy as np\n",
    "data = np.loadtxt(fname='data/inflammation-01.csv', delimiter=',')"
   ]
  },
  {
   "cell_type": "code",
   "execution_count": 2,
   "metadata": {},
   "outputs": [
    {
     "data": {
      "text/plain": [
       "array([12., 18., 13., 11., 11.])"
      ]
     },
     "execution_count": 2,
     "metadata": {},
     "output_type": "execute_result"
    }
   ],
   "source": [
    "patient_data = data[0, :]\n",
    "patient_data[patient_data>10]"
   ]
  },
  {
   "cell_type": "markdown",
   "metadata": {},
   "source": [
    "We can also substitute the measurement with a new value:"
   ]
  },
  {
   "cell_type": "code",
   "execution_count": 3,
   "metadata": {},
   "outputs": [
    {
     "name": "stdout",
     "output_type": "stream",
     "text": [
      "[ 0.  0.  1.  3.  1.  2.  4.  7.  8.  3.  3.  3. 10.  5.  7.  4.  7.  7.\n",
      " 10. 10.  6. 10. 10. 10.  7.  7.  4.  6.  8.  8.  4.  4.  5.  7.  3.  4.\n",
      "  2.  3.  0.  0.]\n"
     ]
    }
   ],
   "source": [
    "patient_data[patient_data>10] = 10\n",
    "print(patient_data)"
   ]
  },
  {
   "cell_type": "markdown",
   "metadata": {},
   "source": [
    "## $\\color{green}{\\text{Excercise}}$ view or a copy\n",
    "Is `patient_data` view or a copy of `data`?"
   ]
  },
  {
   "cell_type": "markdown",
   "metadata": {},
   "source": [
    "## $\\color{green}{\\text{Quiz}}$ \n",
    "\n",
    "Imagine the following array a:\n",
    "\n",
    "`>> print(a)` <br>\n",
    "[0, 5, 8, 10]\n",
    "\n",
    "Which of the following commands will give this output:\n",
    "\n",
    "[5, 8]\n",
    "\n",
    "a) print(a[1, 2])\n",
    "\n",
    "b) print(a[2:3])\n",
    "\n",
    "c) print(a[1:2])\n",
    "\n",
    "d) print(a[[1, 2]])\n",
    "\n",
    "e) print(a[a<10])\n",
    "\n",
    "You can test your guess by creating the a array:\n",
    "\n",
    "a = np.array([0, 5, 8, 10])"
   ]
  },
  {
   "cell_type": "markdown",
   "metadata": {},
   "source": [
    "[Previous: Slices](slices.ipynb)<br>[Next: Operations](operations.ipynb)"
   ]
  }
 ],
 "metadata": {
  "kernelspec": {
   "display_name": "Python 3",
   "language": "python",
   "name": "python3"
  },
  "language_info": {
   "codemirror_mode": {
    "name": "ipython",
    "version": 3
   },
   "file_extension": ".py",
   "mimetype": "text/x-python",
   "name": "python",
   "nbconvert_exporter": "python",
   "pygments_lexer": "ipython3",
   "version": "3.7.2"
  }
 },
 "nbformat": 4,
 "nbformat_minor": 2
}
